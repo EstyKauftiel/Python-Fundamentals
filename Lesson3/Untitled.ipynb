{
 "cells": [
  {
   "cell_type": "markdown",
   "id": "58dc3ed2",
   "metadata": {},
   "source": [
    "# exercise 1"
   ]
  },
  {
   "cell_type": "code",
   "execution_count": 2,
   "id": "a577f39f",
   "metadata": {},
   "outputs": [
    {
     "name": "stdout",
     "output_type": "stream",
     "text": [
      "23\n"
     ]
    }
   ],
   "source": [
    "def sum(numbers):\n",
    "    total = 0\n",
    "    for i in numbers:\n",
    "        total += i\n",
    "    return total\n",
    "\n",
    "print(sum((9,3,4,7))) \n"
   ]
  },
  {
   "cell_type": "markdown",
   "id": "e3fb9b69",
   "metadata": {},
   "source": [
    "# exercise 2"
   ]
  },
  {
   "cell_type": "code",
   "execution_count": 7,
   "id": "c098f62f",
   "metadata": {},
   "outputs": [
    {
     "name": "stdout",
     "output_type": "stream",
     "text": [
      "26 is in the range\n"
     ]
    }
   ],
   "source": [
    "def test_range(n):\n",
    "    if n in range(20,100):\n",
    "        print(\"%s is in the range\" % str(n))\n",
    "    else:\n",
    "        print(\"The number is outside the given range.\")\n",
    "        \n",
    "test_range(26)"
   ]
  },
  {
   "cell_type": "markdown",
   "id": "e009b9be",
   "metadata": {},
   "source": [
    "# exercise 3"
   ]
  },
  {
   "cell_type": "code",
   "execution_count": 14,
   "id": "0db01a06",
   "metadata": {},
   "outputs": [
    {
     "name": "stdout",
     "output_type": "stream",
     "text": [
      "Original String:  The quick Brown Fox\n",
      "of Upper case characters: \n",
      "3\n",
      "of Lower case Characters: \n",
      "13\n"
     ]
    }
   ],
   "source": [
    "def string_test(s):\n",
    "    d = {\"UPPER_CASE\": 0, \"LOWER_CASE\": 0}\n",
    "    for c in s:\n",
    "        if c.isupper():\n",
    "            d[\"UPPER_CASE\"] += 1\n",
    "        elif c.islower():\n",
    "            d[\"LOWER_CASE\"] += 1\n",
    "        else:\n",
    "            pass\n",
    "    print(\"Original String: \", s)\n",
    "    print(\"of Upper case characters: \" )\n",
    "    print(d[\"UPPER_CASE\"])\n",
    "    print(\"of Lower case Characters: \")\n",
    "    print(d[\"LOWER_CASE\"])\n",
    "\n",
    "string_test('The quick Brown Fox')"
   ]
  },
  {
   "cell_type": "code",
   "execution_count": null,
   "id": "f5b24945",
   "metadata": {},
   "outputs": [],
   "source": []
  }
 ],
 "metadata": {
  "kernelspec": {
   "display_name": "Python 3 (ipykernel)",
   "language": "python",
   "name": "python3"
  },
  "language_info": {
   "codemirror_mode": {
    "name": "ipython",
    "version": 3
   },
   "file_extension": ".py",
   "mimetype": "text/x-python",
   "name": "python",
   "nbconvert_exporter": "python",
   "pygments_lexer": "ipython3",
   "version": "3.10.9"
  }
 },
 "nbformat": 4,
 "nbformat_minor": 5
}
