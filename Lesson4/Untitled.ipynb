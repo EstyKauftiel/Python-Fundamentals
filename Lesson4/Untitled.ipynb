{
 "cells": [
  {
   "cell_type": "markdown",
   "id": "79589d09",
   "metadata": {},
   "source": [
    "# exercise 1"
   ]
  },
  {
   "cell_type": "code",
   "execution_count": 1,
   "id": "fa89bc28",
   "metadata": {},
   "outputs": [
    {
     "name": "stdout",
     "output_type": "stream",
     "text": [
      "Double the number of 15 = 30\n",
      "Triple the number of 15 = 45\n",
      "Quadruple the number of 15 = 60\n",
      "Quintuple the number 15 = 75\n"
     ]
    }
   ],
   "source": [
    "def func_compute(n):\n",
    "    return lambda x: x * n\n",
    "\n",
    "result = func_compute(2)\n",
    "print(\"Double the number of 15 =\", result(15))\n",
    "result = func_compute(3)\n",
    "print(\"Triple the number of 15 =\", result(15))\n",
    "result = func_compute(4)\n",
    "print(\"Quadruple the number of 15 =\", result(15))\n",
    "result = func_compute(5)\n",
    "print(\"Quintuple the number 15 =\", result(15))"
   ]
  },
  {
   "cell_type": "markdown",
   "id": "3e88c111",
   "metadata": {},
   "source": [
    "# exercise 2"
   ]
  },
  {
   "cell_type": "code",
   "execution_count": 13,
   "id": "3ef2ff29",
   "metadata": {},
   "outputs": [
    {
     "name": "stdout",
     "output_type": "stream",
     "text": [
      "Original list:\n",
      "[{'make': 'Nokia', 'model': 216, 'color': 'Black'}, {'make': 'Mi Max', 'model': '2', 'color': 'Gold'}, {'make': 'Samsung', 'model': 7, 'color': 'Blue'}]\n",
      "Sorting list:\n",
      "[{'make': 'Nokia', 'model': 216, 'color': 'Black'}, {'make': 'Samsung', 'model': 7, 'color': 'Blue'}, {'make': 'Mi Max', 'model': '2', 'color': 'Gold'}]\n"
     ]
    }
   ],
   "source": [
    "models = [\n",
    "    {'make': 'Nokia', 'model': 216, 'color': 'Black'},\n",
    "    {'make': 'Mi Max', 'model': '2', 'color': 'Gold'},\n",
    "    {'make': 'Samsung', 'model': 7, 'color': 'Blue'}\n",
    "]\n",
    "\n",
    "print(\"Original list:\")\n",
    "print(models)\n",
    "sorted_models = sorted(models, key=lambda x: x['color'])\n",
    "print(\"Sorting list:\")\n",
    "print(sorted_models) "
   ]
  },
  {
   "cell_type": "markdown",
   "id": "82a3f4ad",
   "metadata": {},
   "source": [
    "# exercise 3"
   ]
  },
  {
   "cell_type": "code",
   "execution_count": 12,
   "id": "9e681f0a",
   "metadata": {},
   "outputs": [
    {
     "name": "stdout",
     "output_type": "stream",
     "text": [
      "Original arrays:\n",
      "[1, 2, 3, 5, 7, 8, 9, 10]\n",
      "[1, 2, 4, 8, 9]\n",
      "\n",
      "Intersection of the two arrays:  [1, 2, 8, 9]\n"
     ]
    }
   ],
   "source": [
    "nums1 = [1, 2, 3, 5, 7, 8, 9, 10]\n",
    "nums2 = [1, 2, 4, 8, 9]\n",
    "print(\"Original arrays:\")\n",
    "print(nums1)  \n",
    "print(nums2)  \n",
    "result = list(filter(lambda x: x in nums1, nums2))\n",
    "print(\"\\nIntersection of the two arrays: \", result) "
   ]
  },
  {
   "cell_type": "markdown",
   "id": "235d60c3",
   "metadata": {},
   "source": [
    "# exercise 4"
   ]
  },
  {
   "cell_type": "code",
   "execution_count": 16,
   "id": "1311e17b",
   "metadata": {},
   "outputs": [
    {
     "name": "stdout",
     "output_type": "stream",
     "text": [
      "Original list: [3, -5, 9, 6, 12, -10]\n",
      "Sum of the positive numbers:  30\n",
      "Sum of the negative numbers:  -15\n"
     ]
    }
   ],
   "source": [
    "nums = [3,-5,9,6,12,-10]\n",
    "print(\"Original list:\", nums)\n",
    "positive = list(filter(lambda nums: nums > 0, nums))\n",
    "negative = list(filter(lambda nums: nums < 0, nums))\n",
    "print(\"Sum of the positive numbers: \", sum(positive))\n",
    "print(\"Sum of the negative numbers: \", sum(negative))"
   ]
  },
  {
   "cell_type": "markdown",
   "id": "51fb6d36",
   "metadata": {},
   "source": [
    "# exercise 5"
   ]
  },
  {
   "cell_type": "code",
   "execution_count": 17,
   "id": "a519b1eb",
   "metadata": {},
   "outputs": [
    {
     "name": "stdout",
     "output_type": "stream",
     "text": [
      "Original Characters:\n",
      " {'i', 'o', 'f', 'E', 'b', 'U', 'a'}\n",
      "\n",
      "After converting above characters in upper and lower cases\n",
      "and eliminating duplicate letters:\n",
      "{('F', 'f'), ('U', 'u'), ('A', 'a'), ('I', 'i'), ('E', 'e'), ('B', 'b'), ('O', 'o')}\n"
     ]
    }
   ],
   "source": [
    "def change_cases(s):\n",
    "    return str(s).upper(), str(s).lower()\n",
    "chrars = {'a', 'b', 'E', 'f', 'a', 'i', 'o', 'U', 'a'}\n",
    "print(\"Original Characters:\\n\", chrars)\n",
    "result = map(change_cases, chrars)\n",
    "print(\"\\nAfter converting above characters in upper and lower cases\\nand eliminating duplicate letters:\")\n",
    "print(set(result))"
   ]
  },
  {
   "cell_type": "code",
   "execution_count": null,
   "id": "c5f0c0bc",
   "metadata": {},
   "outputs": [],
   "source": []
  }
 ],
 "metadata": {
  "kernelspec": {
   "display_name": "Python 3 (ipykernel)",
   "language": "python",
   "name": "python3"
  },
  "language_info": {
   "codemirror_mode": {
    "name": "ipython",
    "version": 3
   },
   "file_extension": ".py",
   "mimetype": "text/x-python",
   "name": "python",
   "nbconvert_exporter": "python",
   "pygments_lexer": "ipython3",
   "version": "3.11.5"
  }
 },
 "nbformat": 4,
 "nbformat_minor": 5
}
