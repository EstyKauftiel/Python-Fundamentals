{
 "cells": [
  {
   "cell_type": "markdown",
   "id": "339661bd",
   "metadata": {},
   "source": [
    "# exercise 1:"
   ]
  },
  {
   "cell_type": "code",
   "execution_count": 1,
   "id": "335f6e3e",
   "metadata": {},
   "outputs": [
    {
     "name": "stdout",
     "output_type": "stream",
     "text": [
      "enter string:Hi my name is Esty\n"
     ]
    }
   ],
   "source": [
    "str=input(\"enter string:\")"
   ]
  },
  {
   "cell_type": "code",
   "execution_count": 2,
   "id": "a5bf89c4",
   "metadata": {},
   "outputs": [
    {
     "name": "stdout",
     "output_type": "stream",
     "text": [
      "Hi my na\n"
     ]
    }
   ],
   "source": [
    "print(str[0:8:1])"
   ]
  },
  {
   "cell_type": "code",
   "execution_count": 5,
   "id": "21ff0f74",
   "metadata": {},
   "outputs": [
    {
     "name": "stdout",
     "output_type": "stream",
     "text": [
      "s Esty\n"
     ]
    }
   ],
   "source": [
    "print(str[-6::1])"
   ]
  },
  {
   "cell_type": "code",
   "execution_count": 6,
   "id": "477c59b4",
   "metadata": {},
   "outputs": [
    {
     "name": "stdout",
     "output_type": "stream",
     "text": [
      "Hmness\n"
     ]
    }
   ],
   "source": [
    "print(str[0::3])"
   ]
  },
  {
   "cell_type": "code",
   "execution_count": 13,
   "id": "25a39346",
   "metadata": {},
   "outputs": [
    {
     "data": {
      "text/plain": [
       "18"
      ]
     },
     "execution_count": 13,
     "metadata": {},
     "output_type": "execute_result"
    }
   ],
   "source": [
    "length=len(str)\n",
    "length"
   ]
  },
  {
   "cell_type": "code",
   "execution_count": 15,
   "id": "4d3c5f34",
   "metadata": {},
   "outputs": [
    {
     "name": "stdout",
     "output_type": "stream",
     "text": [
      "Hi m\n"
     ]
    }
   ],
   "source": [
    "print(str[0:length//4:1])"
   ]
  },
  {
   "cell_type": "code",
   "execution_count": 20,
   "id": "8396f2db",
   "metadata": {},
   "outputs": [
    {
     "name": "stdout",
     "output_type": "stream",
     "text": [
      "HI MY NAME IS ESTY\n"
     ]
    }
   ],
   "source": [
    "print(str.upper())"
   ]
  },
  {
   "cell_type": "code",
   "execution_count": 23,
   "id": "3b0800d7",
   "metadata": {},
   "outputs": [
    {
     "name": "stdout",
     "output_type": "stream",
     "text": [
      "ytsE si eman ym i\n"
     ]
    }
   ],
   "source": [
    "print(str[:0:-1])"
   ]
  },
  {
   "cell_type": "markdown",
   "id": "9956dc6d",
   "metadata": {},
   "source": [
    "# exercise 2:"
   ]
  },
  {
   "cell_type": "code",
   "execution_count": 28,
   "id": "1b27bd1f",
   "metadata": {},
   "outputs": [
    {
     "name": "stdout",
     "output_type": "stream",
     "text": [
      "{'H': 1, 'i': 2, ' ': 4, 'm': 2, 'y': 2, 'n': 1, 'a': 1, 'e': 1, 's': 2, 'E': 1, 't': 1}\n"
     ]
    }
   ],
   "source": [
    "new_str={}\n",
    "for i in str:\n",
    "    keys=new_str.keys()\n",
    "    if i in keys:\n",
    "        new_str[i]+=1\n",
    "    else:\n",
    "        new_str[i]=1\n",
    "print(new_str)        \n",
    "    \n",
    "    "
   ]
  },
  {
   "cell_type": "markdown",
   "id": "b6f90f3a",
   "metadata": {},
   "source": [
    "# exercise 3:\n"
   ]
  },
  {
   "cell_type": "code",
   "execution_count": 35,
   "id": "fd40f541",
   "metadata": {},
   "outputs": [
    {
     "name": "stdout",
     "output_type": "stream",
     "text": [
      "enter string:hello\n",
      "helo\n"
     ]
    }
   ],
   "source": [
    "str3=input(\"enter string:\")\n",
    "if(len(str3)<2):\n",
    "    print(\"{}\")\n",
    "else:\n",
    "    new_str3=str3[0:2:1]+str3[-2::1]\n",
    "    print(new_str3)\n"
   ]
  },
  {
   "cell_type": "markdown",
   "id": "e1e47dd3",
   "metadata": {},
   "source": [
    "# exercise 4:"
   ]
  },
  {
   "cell_type": "code",
   "execution_count": 37,
   "id": "5c777312",
   "metadata": {},
   "outputs": [
    {
     "name": "stdout",
     "output_type": "stream",
     "text": [
      "enter string:temar\n",
      "tmr\n"
     ]
    }
   ],
   "source": [
    "str4=input(\"enter string:\")\n",
    "new_str4=str4[0]+str4[len(str4)//2]+str4[len(str4)-1]\n",
    "print(new_str4)"
   ]
  },
  {
   "cell_type": "code",
   "execution_count": 40,
   "id": "6faba114",
   "metadata": {},
   "outputs": [
    {
     "name": "stdout",
     "output_type": "stream",
     "text": [
      "ama\n"
     ]
    }
   ],
   "source": [
    "new_str4=str4[len(str4)//2-1]+str4[len(str4)//2]+str4[len(str4)//2+1]\n",
    "print(new_str4)"
   ]
  },
  {
   "cell_type": "markdown",
   "id": "aaa984cf",
   "metadata": {},
   "source": [
    "# exercise 5:"
   ]
  },
  {
   "cell_type": "code",
   "execution_count": 57,
   "id": "81466bde",
   "metadata": {},
   "outputs": [
    {
     "name": "stdout",
     "output_type": "stream",
     "text": [
      "enter number:2\n",
      "enter the maximum length:5\n",
      "24690\n"
     ]
    }
   ],
   "source": [
    "num=input(\"enter number:\")\n",
    "n=input(\"enter the maximum length:\")\n",
    "sum=0\n",
    "for i in range (1, int(n) + 1):\n",
    "    sum += int(num * i)\n",
    "print(sum)\n"
   ]
  },
  {
   "cell_type": "markdown",
   "id": "bcb75f0b",
   "metadata": {},
   "source": [
    "# exercise 6:"
   ]
  },
  {
   "cell_type": "code",
   "execution_count": null,
   "id": "3f7a29d0",
   "metadata": {},
   "outputs": [],
   "source": []
  }
 ],
 "metadata": {
  "kernelspec": {
   "display_name": "Python 3 (ipykernel)",
   "language": "python",
   "name": "python3"
  },
  "language_info": {
   "codemirror_mode": {
    "name": "ipython",
    "version": 3
   },
   "file_extension": ".py",
   "mimetype": "text/x-python",
   "name": "python",
   "nbconvert_exporter": "python",
   "pygments_lexer": "ipython3",
   "version": "3.10.9"
  }
 },
 "nbformat": 4,
 "nbformat_minor": 5
}
