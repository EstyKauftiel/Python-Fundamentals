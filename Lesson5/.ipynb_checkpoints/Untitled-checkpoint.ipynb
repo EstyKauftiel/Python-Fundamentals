{
 "cells": [
  {
   "cell_type": "markdown",
   "id": "5de25e56",
   "metadata": {},
   "source": [
    "# exercise 1"
   ]
  },
  {
   "cell_type": "code",
   "execution_count": 6,
   "id": "ad1857cd",
   "metadata": {},
   "outputs": [
    {
     "name": "stdout",
     "output_type": "stream",
     "text": [
      "46\n",
      "50\n",
      "61\n",
      "81\n",
      "24\n"
     ]
    }
   ],
   "source": [
    "import random\n",
    "\n",
    "def random_generators(start,end):\n",
    "    while True:\n",
    "        yield random.randint(start,end)\n",
    "\n",
    "random_numbers=random_generators(10,100) \n",
    "for _ in range(5):\n",
    "    print(next(random_numbers))\n",
    "\n"
   ]
  },
  {
   "cell_type": "markdown",
   "id": "073d9c85",
   "metadata": {},
   "source": [
    "# exercise 2"
   ]
  },
  {
   "cell_type": "code",
   "execution_count": 42,
   "id": "60093905",
   "metadata": {},
   "outputs": [
    {
     "name": "stdout",
     "output_type": "stream",
     "text": [
      "the cat is in the house\n"
     ]
    }
   ],
   "source": [
    "def translate(sentence):\n",
    "    words = {'esta': 'is', 'la': 'the', 'en': 'in', 'gato': 'cat', 'casa': 'house', 'el': 'the' }\n",
    "    translated_words = (words[word] for word in sentence.split() if word in words) \n",
    "    translated_sentence = ' '.join(translated_words) \n",
    "    return translated_sentence\n",
    "print(translate(\"el gato esta en la casa\"))"
   ]
  },
  {
   "cell_type": "markdown",
   "id": "788c34af",
   "metadata": {},
   "source": [
    "# exercise 4"
   ]
  },
  {
   "cell_type": "code",
   "execution_count": 22,
   "id": "8f6d3bb2",
   "metadata": {},
   "outputs": [
    {
     "name": "stdout",
     "output_type": "stream",
     "text": [
      "top element: 7\n",
      "popped item: 7\n",
      "top element: 2\n",
      "popped item: cannot pop from an empty stack\n"
     ]
    }
   ],
   "source": [
    "class Stack:\n",
    "    \n",
    "    def __init__(self):\n",
    "        self.items = []\n",
    "        \n",
    "    def push(self, item):\n",
    "        self.items.append(item)\n",
    "        \n",
    "    def pop(self):\n",
    "        if not self.is_empty():\n",
    "            return self.items.pop()\n",
    "        else:\n",
    "            return \"cannot pop from an empty stack\"\n",
    "\n",
    "    def is_empty(self):\n",
    "        return len(self.items) == 0\n",
    "\n",
    "    def top(self):\n",
    "        if not self.is_empty():\n",
    "            return self.items[-1]\n",
    "        else:\n",
    "            return \"Empty stack.\"\n",
    "\n",
    "stack = Stack()\n",
    "stack.push(9)\n",
    "stack.push(24)\n",
    "stack.push(15)\n",
    "stack.push(2)\n",
    "stack.push(7)\n",
    "\n",
    "print(\"top element:\", stack.top())\n",
    "print(\"popped item:\", stack.pop())\n",
    "print(\"top element:\", stack.top())\n",
    "\n",
    "stack1 = Stack()\n",
    "print(\"popped item:\", stack1.pop()) "
   ]
  },
  {
   "cell_type": "markdown",
   "id": "91ebcf6c",
   "metadata": {},
   "source": [
    "# Diamond Class (Part A)\n"
   ]
  },
  {
   "cell_type": "code",
   "execution_count": 40,
   "id": "8d3d1fbe",
   "metadata": {},
   "outputs": [
    {
     "name": "stdout",
     "output_type": "stream",
     "text": [
      "Volume diamond 1: 156.24\n",
      "Diamond Information:\n",
      "Price: $5000\n",
      "Carat: 1.5\n",
      "Cut: Very Good\n",
      "Color: G\n",
      "Clarity: VS1\n",
      "Length (x): 6.2 mm\n",
      "Width (y): 6.3 mm\n",
      "Depth (z): 4.0 mm\n",
      "Depth Percentage: 60%\n",
      "Table: 58\n",
      "\n",
      "Volume diamond 2: 320.0\n",
      "Diamond Information:\n",
      "Price: $10000\n",
      "Carat: 2.0\n",
      "Cut: Ideal\n",
      "Color: D\n",
      "Clarity: VVS2\n",
      "Length (x): 8.0 mm\n",
      "Width (y): 8.0 mm\n",
      "Depth (z): 5.0 mm\n",
      "Depth Percentage: 62%\n",
      "Table: 56\n",
      "\n",
      "Volume diamond 3: 2700.0\n",
      "Diamond Information:\n",
      "Price: $15000\n",
      "Carat: 3.7\n",
      "Cut: Premium\n",
      "Color: E\n",
      "Clarity: VS2\n",
      "Length (x): 9.0 mm\n",
      "Width (y): 20.0 mm\n",
      "Depth (z): 15.0 mm\n",
      "Depth Percentage: 58%\n",
      "Table: 76\n"
     ]
    }
   ],
   "source": [
    "class Diamond:\n",
    "\n",
    "    def __init__(self, price, carat, cut, color, clarity, x, y, z, depth, table):\n",
    "        if not (326 <= price <= 18823):\n",
    "            raise ValueError(\"Price should be between $326 and $18,823\")\n",
    "        if not (0.2 <= carat <= 5.01):\n",
    "            raise ValueError(\"Carat should be between 0.2 and 5.01\")\n",
    "        if cut not in [\"Fair\", \"Good\", \"Very Good\", \"Premium\", \"Ideal\"]:\n",
    "            raise ValueError(\"Invalid cut quality\")\n",
    "        if color not in [\"J\", \"I\", \"H\", \"G\", \"F\", \"E\", \"D\"]:\n",
    "            raise ValueError(\"Invalid color\")\n",
    "        if clarity not in [\"I1\", \"SI2\", \"SI1\", \"VS2\", \"VS1\", \"VVS2\", \"VVS1\", \"IF\"]:\n",
    "            raise ValueError(\"Invalid clarity\")\n",
    "        if not (0 <= x <= 10.74) or not (0 <= y <= 58.9) or not (0 <= z <= 31.8):\n",
    "            raise ValueError(\"Invalid dimensions (x, y, z)\")\n",
    "        if not (43 <= depth <= 79):\n",
    "            raise ValueError(\"Total depth percentage should be between 43 and 79\")\n",
    "        if not (43 <= table <= 95):\n",
    "            raise ValueError(\"Table width should be between 43 and 95\")\n",
    "        self.price = price\n",
    "        self.carat = carat\n",
    "        self.cut = cut\n",
    "        self.color = color\n",
    "        self.clarity = clarity\n",
    "        self.x = x\n",
    "        self.y = y\n",
    "        self.z = z\n",
    "        self.depth = depth\n",
    "        self.table = table\n",
    "        \n",
    "    def calculateVolume(self):\n",
    "        return self.x*self.y*self.z\n",
    "    \n",
    "    def displayInfo(self):\n",
    "        print(\"Diamond Information:\")\n",
    "        print(f\"Price: ${self.price}\")\n",
    "        print(f\"Carat: {self.carat}\")\n",
    "        print(f\"Cut: {self.cut}\")\n",
    "        print(f\"Color: {self.color}\")\n",
    "        print(f\"Clarity: {self.clarity}\")\n",
    "        print(f\"Length (x): {self.x} mm\")\n",
    "        print(f\"Width (y): {self.y} mm\")\n",
    "        print(f\"Depth (z): {self.z} mm\")\n",
    "        print(f\"Depth Percentage: {self.depth}%\")\n",
    "        print(f\"Table: {self.table}\")  \n",
    "        \n",
    "diamond1 = Diamond(5000, 1.5, \"Very Good\", \"G\", \"VS1\", 6.2, 6.3, 4.0, 60, 58)\n",
    "diamond2 = Diamond(10000, 2.0, \"Ideal\", \"D\", \"VVS2\", 8.0, 8.0, 5.0, 62, 56)  \n",
    "diamond3 = Diamond(15000, 3.7, \"Premium\", \"E\", \"VS2\", 9.0, 20.0, 15.0, 58, 76) \n",
    "\n",
    "print(\"Volume diamond 1:\", diamond1.calculateVolume())\n",
    "diamond1.displayInfo()        \n",
    "print(\"\\nVolume diamond 2:\", diamond2.calculateVolume())\n",
    "diamond2.displayInfo()     \n",
    "print(\"\\nVolume diamond 3:\", diamond3.calculateVolume())\n",
    "diamond3.displayInfo()  "
   ]
  },
  {
   "cell_type": "code",
   "execution_count": null,
   "id": "7f4665a0",
   "metadata": {},
   "outputs": [],
   "source": []
  }
 ],
 "metadata": {
  "kernelspec": {
   "display_name": "Python 3 (ipykernel)",
   "language": "python",
   "name": "python3"
  },
  "language_info": {
   "codemirror_mode": {
    "name": "ipython",
    "version": 3
   },
   "file_extension": ".py",
   "mimetype": "text/x-python",
   "name": "python",
   "nbconvert_exporter": "python",
   "pygments_lexer": "ipython3",
   "version": "3.11.5"
  }
 },
 "nbformat": 4,
 "nbformat_minor": 5
}
